{
 "cells": [
  {
   "cell_type": "code",
   "execution_count": 1,
   "id": "89f73cea",
   "metadata": {},
   "outputs": [],
   "source": [
    "import pandas as pd\n",
    "import numpy as np\n",
    "import seaborn as sns\n",
    "from sklearn.model_selection import train_test_split\n",
    "from sklearn import linear_model\n",
    "from sklearn.metrics import r2_score, mean_squared_error\n",
    "import matplotlib.pyplot as plt\n",
    "\n",
    "from jupiter import Moons\n",
    "\n",
    "\n",
    "M = Moons()"
   ]
  },
  {
   "cell_type": "markdown",
   "id": "07b3897d",
   "metadata": {},
   "source": [
    "# How to use this modual"
   ]
  },
  {
   "cell_type": "markdown",
   "id": "81ef8e56",
   "metadata": {},
   "source": [
    "first create a Moons object you can call it whatever you want in this case I will call it M  \n",
    "`M = Moons()`  \n",
    "This object has 12 methods, I will go through each and explain what it does giving examples"
   ]
  },
  {
   "cell_type": "markdown",
   "id": "bbe2e5a5",
   "metadata": {},
   "source": [
    "# Basic statistical analysis methods "
   ]
  },
  {
   "cell_type": "markdown",
   "id": "6afd81e5",
   "metadata": {},
   "source": [
    "### extract_row(moon_name)\n",
    "the `extract_row(moon_name)` method as it says will extract the row of the database given a string of the moons name returning    the row in the form of a dataframe with one row.    \n",
    "an example is shown below "
   ]
  },
  {
   "cell_type": "code",
   "execution_count": 2,
   "id": "0e0c039d",
   "metadata": {},
   "outputs": [
    {
     "data": {
      "text/html": [
       "<div>\n",
       "<style scoped>\n",
       "    .dataframe tbody tr th:only-of-type {\n",
       "        vertical-align: middle;\n",
       "    }\n",
       "\n",
       "    .dataframe tbody tr th {\n",
       "        vertical-align: top;\n",
       "    }\n",
       "\n",
       "    .dataframe thead th {\n",
       "        text-align: right;\n",
       "    }\n",
       "</style>\n",
       "<table border=\"1\" class=\"dataframe\">\n",
       "  <thead>\n",
       "    <tr style=\"text-align: right;\">\n",
       "      <th></th>\n",
       "      <th>moon</th>\n",
       "      <th>period_days</th>\n",
       "      <th>distance_km</th>\n",
       "      <th>radius_km</th>\n",
       "      <th>mag</th>\n",
       "      <th>mass_kg</th>\n",
       "      <th>group</th>\n",
       "      <th>ecc</th>\n",
       "      <th>inclination_deg</th>\n",
       "    </tr>\n",
       "  </thead>\n",
       "  <tbody>\n",
       "    <tr>\n",
       "      <th>13</th>\n",
       "      <td>Dia</td>\n",
       "      <td>287.0</td>\n",
       "      <td>12118000.0</td>\n",
       "      <td>2.0</td>\n",
       "      <td>22.4</td>\n",
       "      <td>NaN</td>\n",
       "      <td>Himalia</td>\n",
       "      <td>0.211</td>\n",
       "      <td>28.3</td>\n",
       "    </tr>\n",
       "  </tbody>\n",
       "</table>\n",
       "</div>"
      ],
      "text/plain": [
       "   moon  period_days  distance_km  radius_km   mag  mass_kg    group    ecc  \\\n",
       "13  Dia        287.0   12118000.0        2.0  22.4      NaN  Himalia  0.211   \n",
       "\n",
       "    inclination_deg  \n",
       "13             28.3  "
      ]
     },
     "execution_count": 2,
     "metadata": {},
     "output_type": "execute_result"
    }
   ],
   "source": [
    "M.extract_row(\"Dia\")"
   ]
  },
  {
   "cell_type": "markdown",
   "id": "d86df436",
   "metadata": {},
   "source": [
    "The code above gives all the information stored about the moon Dia."
   ]
  },
  {
   "cell_type": "markdown",
   "id": "809a7f7a",
   "metadata": {},
   "source": [
    "### extract_col(col_name)\n",
    "the `extract_col(col_name)` method as it says will extract a column of the database given a string of the coumns name returning the column in the form of a series.  \n",
    "an example is shown below"
   ]
  },
  {
   "cell_type": "code",
   "execution_count": 3,
   "id": "90837243",
   "metadata": {},
   "outputs": [
    {
     "data": {
      "text/plain": [
       "0          Adrastea\n",
       "1             Aitne\n",
       "2          Amalthea\n",
       "3            Ananke\n",
       "4             Aoede\n",
       "5             Arche\n",
       "6           Autonoe\n",
       "7        Callirrhoe\n",
       "8          Callisto\n",
       "9             Carme\n",
       "10            Carpo\n",
       "11         Chaldene\n",
       "12          Cyllene\n",
       "13              Dia\n",
       "14           Eirene\n",
       "15            Elara\n",
       "16          Erinome\n",
       "17             Ersa\n",
       "18          Euanthe\n",
       "19         Eukelade\n",
       "20          Eupheme\n",
       "21          Euporie\n",
       "22           Europa\n",
       "23         Eurydome\n",
       "24         Ganymede\n",
       "25        Harpalyke\n",
       "26         Hegemone\n",
       "27           Helike\n",
       "28         Hermippe\n",
       "29            Herse\n",
       "30          Himalia\n",
       "31               Io\n",
       "32          Iocaste\n",
       "33           Isonoe\n",
       "34             Kale\n",
       "35       Kallichore\n",
       "36           Kalyke\n",
       "37             Kore\n",
       "38             Leda\n",
       "39         Lysithea\n",
       "40        Megaclite\n",
       "41            Metis\n",
       "42            Mneme\n",
       "43         Orthosie\n",
       "44           Pandia\n",
       "45         Pasiphae\n",
       "46         Pasithee\n",
       "47    Philophrosyne\n",
       "48        Praxidike\n",
       "49           Sinope\n",
       "50           Sponde\n",
       "51          Taygete\n",
       "52            Thebe\n",
       "53        Thelxinoe\n",
       "54         Themisto\n",
       "55           Thyone\n",
       "Name: moon, dtype: object"
      ]
     },
     "execution_count": 3,
     "metadata": {},
     "output_type": "execute_result"
    }
   ],
   "source": [
    "M.extract_col(\"moon\")"
   ]
  },
  {
   "cell_type": "markdown",
   "id": "271a9c16",
   "metadata": {},
   "source": [
    "The code above returns the column with the name moon"
   ]
  },
  {
   "cell_type": "markdown",
   "id": "42f65ba9",
   "metadata": {},
   "source": [
    "### correlation(full,x_var, y_var)"
   ]
  },
  {
   "cell_type": "markdown",
   "id": "7bb2dbeb",
   "metadata": {},
   "source": [
    "the `correlation(full,x_var, y_var)` method takes the argument full which is a boolean T/F, if its fasle then you must give x_var and y_var and it will give you the correlation value for those 2 columns in the form of a float. If full is true it will return the full corelation matrix between all the columns as a data frame.\n",
    "an example is shown below"
   ]
  },
  {
   "cell_type": "code",
   "execution_count": 4,
   "id": "40250ac6",
   "metadata": {},
   "outputs": [
    {
     "data": {
      "text/plain": [
       "0.99152081948504"
      ]
     },
     "execution_count": 4,
     "metadata": {},
     "output_type": "execute_result"
    }
   ],
   "source": [
    "M.correlation(False,\"period_days\",\"distance_km\")"
   ]
  },
  {
   "cell_type": "code",
   "execution_count": 5,
   "id": "244467dc",
   "metadata": {},
   "outputs": [
    {
     "name": "stderr",
     "output_type": "stream",
     "text": [
      "C:\\Users\\Administrator\\Desktop\\assessment 1\\jupiter.py:38: FutureWarning: The default value of numeric_only in DataFrame.corr is deprecated. In a future version, it will default to False. Select only valid columns or specify the value of numeric_only to silence this warning.\n",
      "  return self.data.corr()\n"
     ]
    },
    {
     "data": {
      "text/html": [
       "<div>\n",
       "<style scoped>\n",
       "    .dataframe tbody tr th:only-of-type {\n",
       "        vertical-align: middle;\n",
       "    }\n",
       "\n",
       "    .dataframe tbody tr th {\n",
       "        vertical-align: top;\n",
       "    }\n",
       "\n",
       "    .dataframe thead th {\n",
       "        text-align: right;\n",
       "    }\n",
       "</style>\n",
       "<table border=\"1\" class=\"dataframe\">\n",
       "  <thead>\n",
       "    <tr style=\"text-align: right;\">\n",
       "      <th></th>\n",
       "      <th>period_days</th>\n",
       "      <th>distance_km</th>\n",
       "      <th>radius_km</th>\n",
       "      <th>mag</th>\n",
       "      <th>mass_kg</th>\n",
       "      <th>ecc</th>\n",
       "      <th>inclination_deg</th>\n",
       "    </tr>\n",
       "  </thead>\n",
       "  <tbody>\n",
       "    <tr>\n",
       "      <th>period_days</th>\n",
       "      <td>1.000000</td>\n",
       "      <td>0.991521</td>\n",
       "      <td>-0.534434</td>\n",
       "      <td>0.742646</td>\n",
       "      <td>-0.504430</td>\n",
       "      <td>0.737181</td>\n",
       "      <td>0.969493</td>\n",
       "    </tr>\n",
       "    <tr>\n",
       "      <th>distance_km</th>\n",
       "      <td>0.991521</td>\n",
       "      <td>1.000000</td>\n",
       "      <td>-0.567266</td>\n",
       "      <td>0.799187</td>\n",
       "      <td>-0.453339</td>\n",
       "      <td>0.750819</td>\n",
       "      <td>0.953873</td>\n",
       "    </tr>\n",
       "    <tr>\n",
       "      <th>radius_km</th>\n",
       "      <td>-0.534434</td>\n",
       "      <td>-0.567266</td>\n",
       "      <td>1.000000</td>\n",
       "      <td>-0.887393</td>\n",
       "      <td>0.968379</td>\n",
       "      <td>-0.478901</td>\n",
       "      <td>-0.487645</td>\n",
       "    </tr>\n",
       "    <tr>\n",
       "      <th>mag</th>\n",
       "      <td>0.742646</td>\n",
       "      <td>0.799187</td>\n",
       "      <td>-0.887393</td>\n",
       "      <td>1.000000</td>\n",
       "      <td>-0.861359</td>\n",
       "      <td>0.554617</td>\n",
       "      <td>0.688529</td>\n",
       "    </tr>\n",
       "    <tr>\n",
       "      <th>mass_kg</th>\n",
       "      <td>-0.504430</td>\n",
       "      <td>-0.453339</td>\n",
       "      <td>0.968379</td>\n",
       "      <td>-0.861359</td>\n",
       "      <td>1.000000</td>\n",
       "      <td>-0.543138</td>\n",
       "      <td>-0.489378</td>\n",
       "    </tr>\n",
       "    <tr>\n",
       "      <th>ecc</th>\n",
       "      <td>0.737181</td>\n",
       "      <td>0.750819</td>\n",
       "      <td>-0.478901</td>\n",
       "      <td>0.554617</td>\n",
       "      <td>-0.543138</td>\n",
       "      <td>1.000000</td>\n",
       "      <td>0.645961</td>\n",
       "    </tr>\n",
       "    <tr>\n",
       "      <th>inclination_deg</th>\n",
       "      <td>0.969493</td>\n",
       "      <td>0.953873</td>\n",
       "      <td>-0.487645</td>\n",
       "      <td>0.688529</td>\n",
       "      <td>-0.489378</td>\n",
       "      <td>0.645961</td>\n",
       "      <td>1.000000</td>\n",
       "    </tr>\n",
       "  </tbody>\n",
       "</table>\n",
       "</div>"
      ],
      "text/plain": [
       "                 period_days  distance_km  radius_km       mag   mass_kg  \\\n",
       "period_days         1.000000     0.991521  -0.534434  0.742646 -0.504430   \n",
       "distance_km         0.991521     1.000000  -0.567266  0.799187 -0.453339   \n",
       "radius_km          -0.534434    -0.567266   1.000000 -0.887393  0.968379   \n",
       "mag                 0.742646     0.799187  -0.887393  1.000000 -0.861359   \n",
       "mass_kg            -0.504430    -0.453339   0.968379 -0.861359  1.000000   \n",
       "ecc                 0.737181     0.750819  -0.478901  0.554617 -0.543138   \n",
       "inclination_deg     0.969493     0.953873  -0.487645  0.688529 -0.489378   \n",
       "\n",
       "                      ecc  inclination_deg  \n",
       "period_days      0.737181         0.969493  \n",
       "distance_km      0.750819         0.953873  \n",
       "radius_km       -0.478901        -0.487645  \n",
       "mag              0.554617         0.688529  \n",
       "mass_kg         -0.543138        -0.489378  \n",
       "ecc              1.000000         0.645961  \n",
       "inclination_deg  0.645961         1.000000  "
      ]
     },
     "execution_count": 5,
     "metadata": {},
     "output_type": "execute_result"
    }
   ],
   "source": [
    "M.correlation(True)"
   ]
  },
  {
   "cell_type": "markdown",
   "id": "37b4e921",
   "metadata": {},
   "source": [
    "The ouput above shows that the corelation between peroid_days and distance_km is positively strong (1 being the stongest posivie corelation -1 being the strongest negative corelation and 0 being no corelation)"
   ]
  },
  {
   "cell_type": "markdown",
   "id": "5a85fb09",
   "metadata": {},
   "source": [
    "### plot(x_var, y_var)"
   ]
  },
  {
   "cell_type": "markdown",
   "id": "930ecbdd",
   "metadata": {},
   "source": [
    "the `plot(x_var, y_var)` method  will take 2 column name inputs as your x and y variables and display a scatter plot of the 2 given colums with the first value given being the x values.  \n",
    "an example is shown below"
   ]
  },
  {
   "cell_type": "code",
   "execution_count": 6,
   "id": "53eac665",
   "metadata": {},
   "outputs": [
    {
     "data": {
      "image/png": "[encoded data removed]",
      "text/plain": [
       "<Figure size 500x500 with 1 Axes>"
      ]
     },
     "metadata": {},
     "output_type": "display_data"
    }
   ],
   "source": [
    "M.plot(\"period_days\",\"distance_km\")"
   ]
  },
  {
   "cell_type": "markdown",
   "id": "6f855763",
   "metadata": {},
   "source": [
    "Above shows the scatter plot of peroid_days and distance_km as you can see there is a strong correlation which was given by the correlation method"
   ]
  },
  {
   "cell_type": "markdown",
   "id": "d800ceb2",
   "metadata": {},
   "source": [
    "### max_col(col)"
   ]
  },
  {
   "cell_type": "markdown",
   "id": "b07d7679",
   "metadata": {},
   "source": [
    "the `max_col(col)` method takes a column name as an input and gives you the maximum interger value of given column.  \n",
    "An example is shown below."
   ]
  },
  {
   "cell_type": "code",
   "execution_count": 7,
   "id": "957f1642",
   "metadata": {},
   "outputs": [
    {
     "data": {
      "text/plain": [
       "787.0"
      ]
     },
     "execution_count": 7,
     "metadata": {},
     "output_type": "execute_result"
    }
   ],
   "source": [
    "M.max_col(\"period_days\")"
   ]
  },
  {
   "cell_type": "markdown",
   "id": "232d68db",
   "metadata": {},
   "source": [
    "### min_col(col)"
   ]
  },
  {
   "cell_type": "markdown",
   "id": "1de91194",
   "metadata": {},
   "source": [
    "the `min_col(col)` method takes a column name as an input and gives you the minimum interger value of given column.  \n",
    "An example is shown below."
   ]
  },
  {
   "cell_type": "code",
   "execution_count": 8,
   "id": "f9c26bcb",
   "metadata": {},
   "outputs": [
    {
     "data": {
      "text/plain": [
       "0.29"
      ]
     },
     "execution_count": 8,
     "metadata": {},
     "output_type": "execute_result"
    }
   ],
   "source": [
    "M.min_col(\"period_days\")"
   ]
  },
  {
   "cell_type": "markdown",
   "id": "6e52db68",
   "metadata": {},
   "source": [
    "### mean_col(col)"
   ]
  },
  {
   "cell_type": "markdown",
   "id": "e27b1612",
   "metadata": {},
   "source": [
    "the `mean_col(col)` method takes a column name as an input and gives you the mean value of given column.  \n",
    "An example is shown below."
   ]
  },
  {
   "cell_type": "code",
   "execution_count": 9,
   "id": "ddd13f0b",
   "metadata": {},
   "outputs": [
    {
     "data": {
      "text/plain": [
       "525.9981464178571"
      ]
     },
     "execution_count": 9,
     "metadata": {},
     "output_type": "execute_result"
    }
   ],
   "source": [
    "M.mean_col(\"period_days\")"
   ]
  },
  {
   "cell_type": "markdown",
   "id": "4dc65d52",
   "metadata": {},
   "source": [
    "### sd_col(col)"
   ]
  },
  {
   "cell_type": "markdown",
   "id": "bb3c66e5",
   "metadata": {},
   "source": [
    "the `sd_col(col)` method takes a column name as an input and gives you the standard deviation  value of given column.  \n",
    "An example is shown below."
   ]
  },
  {
   "cell_type": "code",
   "execution_count": 10,
   "id": "125e55b9",
   "metadata": {},
   "outputs": [
    {
     "data": {
      "text/plain": [
       "272.6702433032668"
      ]
     },
     "execution_count": 10,
     "metadata": {},
     "output_type": "execute_result"
    }
   ],
   "source": [
    "M.sd_col(\"period_days\")"
   ]
  },
  {
   "cell_type": "markdown",
   "id": "40bbf60c",
   "metadata": {},
   "source": [
    "### show()"
   ]
  },
  {
   "cell_type": "markdown",
   "id": "120ce631",
   "metadata": {},
   "source": [
    "`show()` simply returns the entire dataframe "
   ]
  },
  {
   "cell_type": "code",
   "execution_count": 11,
   "id": "a6e4866a",
   "metadata": {},
   "outputs": [
    {
     "name": "stdout",
     "output_type": "stream",
     "text": [
      "             moon  period_days  distance_km  radius_km    mag       mass_kg  \\\n",
      "0        Adrastea     0.298000     129000.0       8.20    NaN           NaN   \n",
      "1           Aitne   730.000000   23231000.0       1.50  22.70           NaN   \n",
      "2        Amalthea     0.498000     181400.0      83.50  14.10  2.080000e+18   \n",
      "3          Ananke   630.000000   21300000.0      14.00  18.90           NaN   \n",
      "4           Aoede   761.000000   24000000.0       2.00  22.50           NaN   \n",
      "5           Arche   724.000000   22931000.0       1.50  22.80           NaN   \n",
      "6         Autonoe   719.000000   23039000.0       2.00  22.00           NaN   \n",
      "7      Callirrhoe   787.000000   24583090.0       4.80  20.80           NaN   \n",
      "8        Callisto    16.689018    1882700.0    2410.30   5.65  1.075938e+23   \n",
      "9           Carme   693.000000   22579850.0      23.35  18.90           NaN   \n",
      "10          Carpo   456.000000   16989000.0       1.50  23.00           NaN   \n",
      "11       Chaldene   760.000000   24006280.0       2.00  22.50           NaN   \n",
      "12        Cyllene   738.000000   24349000.0       1.00  23.20           NaN   \n",
      "13            Dia   287.000000   12118000.0       2.00  22.40           NaN   \n",
      "14         Eirene   744.000000   23731770.0       2.00  22.50           NaN   \n",
      "15          Elara   259.000000   11703130.0      40.00  16.60           NaN   \n",
      "16        Erinome   683.000000   22354200.0       1.50  22.80           NaN   \n",
      "17           Ersa   252.000000   11483000.0       1.50  22.90           NaN   \n",
      "18        Euanthe   603.000000   20799000.0       1.50  22.80           NaN   \n",
      "19       Eukelade   693.000000   23661000.0       2.00  22.60           NaN   \n",
      "20        Eupheme   628.000000   21199710.0       1.00  23.40           NaN   \n",
      "21        Euporie   551.000000   19302000.0       1.00  23.10           NaN   \n",
      "22         Europa     3.551181     670900.0    1560.80   5.29  4.799844e+22   \n",
      "23       Eurydome   723.000000   23214490.0       1.50  22.70           NaN   \n",
      "24       Ganymede     7.150000    1070400.0    2634.10   4.61  1.481900e+23   \n",
      "25      Harpalyke   624.000000   21280180.0       2.00  22.20           NaN   \n",
      "26       Hegemone   740.000000   23947000.0       1.50  22.80           NaN   \n",
      "27         Helike   635.000000   21263000.0       2.00  22.60           NaN   \n",
      "28       Hermippe   607.000000   20665870.0       2.00  22.10           NaN   \n",
      "29          Herse   715.000000   23097000.0       1.00  23.40           NaN   \n",
      "30        Himalia   248.000000   11388690.0      85.00  14.60  4.200000e+18   \n",
      "31             Io     1.750000     421700.0    1821.60   5.02  8.931938e+22   \n",
      "32        Iocaste   641.000000   21431650.0       2.50  21.80           NaN   \n",
      "33         Isonoe   689.000000   23322670.0       2.00  22.50           NaN   \n",
      "34           Kale   737.000000   23512340.0       1.00  23.00           NaN   \n",
      "35     Kallichore   765.000000   24043000.0       1.00  23.70           NaN   \n",
      "36         Kalyke   767.000000   24147770.0       3.50  21.80           NaN   \n",
      "37           Kore   779.000000   24543000.0       1.00  23.60           NaN   \n",
      "38           Leda   242.000000   11195980.0      10.75  20.20           NaN   \n",
      "39       Lysithea   258.000000   11700710.0      21.00  18.20           NaN   \n",
      "40      Megaclite   747.000000   23736190.0       3.00  21.70           NaN   \n",
      "41          Metis     0.290000     128000.0      21.50    NaN           NaN   \n",
      "42          Mneme   620.000000   21069000.0       1.00  23.30           NaN   \n",
      "43       Orthosie   629.000000   21170540.0       1.00  23.10           NaN   \n",
      "44         Pandia   252.000000   11525000.0       1.50  23.00           NaN   \n",
      "45       Pasiphae   722.000000   23208940.0      28.90  16.90           NaN   \n",
      "46       Pasithee   711.000000   22967990.0       1.00  23.20           NaN   \n",
      "47  Philophrosyne   701.000000   22819950.0       1.00  23.50           NaN   \n",
      "48      Praxidike   609.000000   21147000.0       3.50  21.20           NaN   \n",
      "49         Sinope   777.000000   24371650.0      17.50  18.30           NaN   \n",
      "50         Sponde   735.000000   23487000.0       1.00  23.00           NaN   \n",
      "51        Taygete   692.000000   22546240.0       2.50  21.90           NaN   \n",
      "52          Thebe     0.670000     221889.0      49.00    NaN           NaN   \n",
      "53      Thelxinoe   628.000000   21162000.0       1.00  23.50           NaN   \n",
      "54       Themisto   130.000000    7396130.0       4.50  21.00           NaN   \n",
      "55         Thyone   604.000000   20940000.0       2.00  22.30           NaN   \n",
      "\n",
      "       group       ecc  inclination_deg  \n",
      "0      Inner  0.001500             0.03  \n",
      "1      Carme  0.264000           165.00  \n",
      "2      Inner  0.003190             0.37  \n",
      "3     Ananke  0.174725           148.60  \n",
      "4   Pasiphae  0.432000           158.00  \n",
      "5      Carme  0.259000           165.00  \n",
      "6   Pasiphae  0.334000           153.00  \n",
      "7   Pasiphae  0.309570           148.00  \n",
      "8   Galilean  0.007400             2.02  \n",
      "9      Carme  0.229493           163.00  \n",
      "10     other  0.430000            51.40  \n",
      "11     Carme  0.150086           164.00  \n",
      "12  Pasiphae  0.319000           149.00  \n",
      "13   Himalia  0.211000            28.30  \n",
      "14     Carme  0.241300           162.70  \n",
      "15   Himalia  0.196149            30.50  \n",
      "16     Carme  0.205256           164.80  \n",
      "17   Himalia  0.094000            30.61  \n",
      "18    Ananke  0.232000           148.90  \n",
      "19     Carme  0.272000           165.50  \n",
      "20    Ananke  0.253000           148.00  \n",
      "21    Ananke  0.144000           145.80  \n",
      "22  Galilean  0.009000             1.79  \n",
      "23  Pasiphae  0.297537           150.00  \n",
      "24  Galilean  0.001300             2.20  \n",
      "25    Ananke  0.160268           148.29  \n",
      "26  Pasiphae  0.328000           155.20  \n",
      "27    Ananke  0.156000           154.80  \n",
      "28    Ananke  0.198252           146.70  \n",
      "29     Carme  0.200000           164.20  \n",
      "30   Himalia  0.153786            29.90  \n",
      "31  Galilean  0.004100             2.20  \n",
      "32    Ananke  0.329491           149.40  \n",
      "33     Carme  0.226312           164.40  \n",
      "34     Carme  0.289346           166.20  \n",
      "35     Carme  0.264000           165.50  \n",
      "36     Carme  0.302822           165.90  \n",
      "37  Pasiphae  0.325000           145.00  \n",
      "38   Himalia  0.164879            27.60  \n",
      "39   Hamilia  0.147873            26.30  \n",
      "40  Pasiphae  0.410217           143.00  \n",
      "41     Inner  0.000200             2.00  \n",
      "42    Ananke  0.227000           148.60  \n",
      "43    Ananke  0.483724           148.00  \n",
      "44   Himalia  0.180000            28.00  \n",
      "45  Pasiphae  0.611016           153.00  \n",
      "46     Carme  0.209703           165.00  \n",
      "47  Pasiphae  0.194000           144.00  \n",
      "48    Ananke  0.230000           149.00  \n",
      "49  Pasiphae  0.336655           158.00  \n",
      "50  Pasiphae  0.312000           151.00  \n",
      "51     Carme  0.248754           166.00  \n",
      "52     Inner  0.017500             1.10  \n",
      "53    Ananke  0.221000           151.40  \n",
      "54     other  0.252211            45.30  \n",
      "55    Ananke  0.229000           148.50  \n"
     ]
    }
   ],
   "source": [
    "M.show()"
   ]
  },
  {
   "cell_type": "markdown",
   "id": "23e9d3ac",
   "metadata": {},
   "source": [
    "### information()"
   ]
  },
  {
   "cell_type": "markdown",
   "id": "6a1439dd",
   "metadata": {},
   "source": [
    "`information()` gives some general information about the data frame such as the number of entires, column names and the number of non-null entries in each column"
   ]
  },
  {
   "cell_type": "code",
   "execution_count": 12,
   "id": "a8b4ee15",
   "metadata": {},
   "outputs": [
    {
     "name": "stdout",
     "output_type": "stream",
     "text": [
      "<class 'pandas.core.frame.DataFrame'>\n",
      "RangeIndex: 56 entries, 0 to 55\n",
      "Data columns (total 9 columns):\n",
      " #   Column           Non-Null Count  Dtype  \n",
      "---  ------           --------------  -----  \n",
      " 0   moon             56 non-null     object \n",
      " 1   period_days      56 non-null     float64\n",
      " 2   distance_km      56 non-null     float64\n",
      " 3   radius_km        56 non-null     float64\n",
      " 4   mag              53 non-null     float64\n",
      " 5   mass_kg          6 non-null      float64\n",
      " 6   group            56 non-null     object \n",
      " 7   ecc              56 non-null     float64\n",
      " 8   inclination_deg  56 non-null     float64\n",
      "dtypes: float64(7), object(2)\n",
      "memory usage: 4.1+ KB\n"
     ]
    }
   ],
   "source": [
    "M.information()"
   ]
  },
  {
   "cell_type": "markdown",
   "id": "2d930ccc",
   "metadata": {},
   "source": [
    "### peek(rows)"
   ]
  },
  {
   "cell_type": "markdown",
   "id": "45374250",
   "metadata": {},
   "source": [
    "`peek(rows)` will return the first given number of rows of the dataframe "
   ]
  },
  {
   "cell_type": "code",
   "execution_count": 13,
   "id": "932b3d55",
   "metadata": {},
   "outputs": [
    {
     "data": {
      "text/html": [
       "<div>\n",
       "<style scoped>\n",
       "    .dataframe tbody tr th:only-of-type {\n",
       "        vertical-align: middle;\n",
       "    }\n",
       "\n",
       "    .dataframe tbody tr th {\n",
       "        vertical-align: top;\n",
       "    }\n",
       "\n",
       "    .dataframe thead th {\n",
       "        text-align: right;\n",
       "    }\n",
       "</style>\n",
       "<table border=\"1\" class=\"dataframe\">\n",
       "  <thead>\n",
       "    <tr style=\"text-align: right;\">\n",
       "      <th></th>\n",
       "      <th>moon</th>\n",
       "      <th>period_days</th>\n",
       "      <th>distance_km</th>\n",
       "      <th>radius_km</th>\n",
       "      <th>mag</th>\n",
       "      <th>mass_kg</th>\n",
       "      <th>group</th>\n",
       "      <th>ecc</th>\n",
       "      <th>inclination_deg</th>\n",
       "    </tr>\n",
       "  </thead>\n",
       "  <tbody>\n",
       "    <tr>\n",
       "      <th>0</th>\n",
       "      <td>Adrastea</td>\n",
       "      <td>0.298</td>\n",
       "      <td>129000.0</td>\n",
       "      <td>8.2</td>\n",
       "      <td>NaN</td>\n",
       "      <td>NaN</td>\n",
       "      <td>Inner</td>\n",
       "      <td>0.001500</td>\n",
       "      <td>0.03</td>\n",
       "    </tr>\n",
       "    <tr>\n",
       "      <th>1</th>\n",
       "      <td>Aitne</td>\n",
       "      <td>730.000</td>\n",
       "      <td>23231000.0</td>\n",
       "      <td>1.5</td>\n",
       "      <td>22.7</td>\n",
       "      <td>NaN</td>\n",
       "      <td>Carme</td>\n",
       "      <td>0.264000</td>\n",
       "      <td>165.00</td>\n",
       "    </tr>\n",
       "    <tr>\n",
       "      <th>2</th>\n",
       "      <td>Amalthea</td>\n",
       "      <td>0.498</td>\n",
       "      <td>181400.0</td>\n",
       "      <td>83.5</td>\n",
       "      <td>14.1</td>\n",
       "      <td>2.080000e+18</td>\n",
       "      <td>Inner</td>\n",
       "      <td>0.003190</td>\n",
       "      <td>0.37</td>\n",
       "    </tr>\n",
       "    <tr>\n",
       "      <th>3</th>\n",
       "      <td>Ananke</td>\n",
       "      <td>630.000</td>\n",
       "      <td>21300000.0</td>\n",
       "      <td>14.0</td>\n",
       "      <td>18.9</td>\n",
       "      <td>NaN</td>\n",
       "      <td>Ananke</td>\n",
       "      <td>0.174725</td>\n",
       "      <td>148.60</td>\n",
       "    </tr>\n",
       "    <tr>\n",
       "      <th>4</th>\n",
       "      <td>Aoede</td>\n",
       "      <td>761.000</td>\n",
       "      <td>24000000.0</td>\n",
       "      <td>2.0</td>\n",
       "      <td>22.5</td>\n",
       "      <td>NaN</td>\n",
       "      <td>Pasiphae</td>\n",
       "      <td>0.432000</td>\n",
       "      <td>158.00</td>\n",
       "    </tr>\n",
       "  </tbody>\n",
       "</table>\n",
       "</div>"
      ],
      "text/plain": [
       "       moon  period_days  distance_km  radius_km   mag       mass_kg  \\\n",
       "0  Adrastea        0.298     129000.0        8.2   NaN           NaN   \n",
       "1     Aitne      730.000   23231000.0        1.5  22.7           NaN   \n",
       "2  Amalthea        0.498     181400.0       83.5  14.1  2.080000e+18   \n",
       "3    Ananke      630.000   21300000.0       14.0  18.9           NaN   \n",
       "4     Aoede      761.000   24000000.0        2.0  22.5           NaN   \n",
       "\n",
       "      group       ecc  inclination_deg  \n",
       "0     Inner  0.001500             0.03  \n",
       "1     Carme  0.264000           165.00  \n",
       "2     Inner  0.003190             0.37  \n",
       "3    Ananke  0.174725           148.60  \n",
       "4  Pasiphae  0.432000           158.00  "
      ]
     },
     "execution_count": 13,
     "metadata": {},
     "output_type": "execute_result"
    }
   ],
   "source": [
    "M.peek(5)"
   ]
  },
  {
   "cell_type": "markdown",
   "id": "6012465a",
   "metadata": {},
   "source": [
    "As you see it gives the first 5 rows of the data frame "
   ]
  },
  {
   "cell_type": "markdown",
   "id": "7cff79a0",
   "metadata": {},
   "source": [
    "### full_summary()"
   ]
  },
  {
   "cell_type": "markdown",
   "id": "3dc7b338",
   "metadata": {},
   "source": [
    "the `full_summary()` method displayes a simple statistical summary of the data for each column. This includes: count (amount of non NULL entries in the column), mean, std, quanties (25,50 and 70), min and max.  \n",
    "An example is shown below."
   ]
  },
  {
   "cell_type": "code",
   "execution_count": 14,
   "id": "4667e2bd",
   "metadata": {
    "scrolled": true
   },
   "outputs": [
    {
     "data": {
      "text/html": [
       "<div>\n",
       "<style scoped>\n",
       "    .dataframe tbody tr th:only-of-type {\n",
       "        vertical-align: middle;\n",
       "    }\n",
       "\n",
       "    .dataframe tbody tr th {\n",
       "        vertical-align: top;\n",
       "    }\n",
       "\n",
       "    .dataframe thead th {\n",
       "        text-align: right;\n",
       "    }\n",
       "</style>\n",
       "<table border=\"1\" class=\"dataframe\">\n",
       "  <thead>\n",
       "    <tr style=\"text-align: right;\">\n",
       "      <th></th>\n",
       "      <th>period_days</th>\n",
       "      <th>distance_km</th>\n",
       "      <th>radius_km</th>\n",
       "      <th>mag</th>\n",
       "      <th>mass_kg</th>\n",
       "      <th>ecc</th>\n",
       "      <th>inclination_deg</th>\n",
       "    </tr>\n",
       "  </thead>\n",
       "  <tbody>\n",
       "    <tr>\n",
       "      <th>count</th>\n",
       "      <td>56.000000</td>\n",
       "      <td>5.600000e+01</td>\n",
       "      <td>56.000000</td>\n",
       "      <td>53.000000</td>\n",
       "      <td>6.000000e+00</td>\n",
       "      <td>56.000000</td>\n",
       "      <td>56.000000</td>\n",
       "    </tr>\n",
       "    <tr>\n",
       "      <th>mean</th>\n",
       "      <td>525.998146</td>\n",
       "      <td>1.775655e+07</td>\n",
       "      <td>158.969643</td>\n",
       "      <td>20.418302</td>\n",
       "      <td>6.551798e+22</td>\n",
       "      <td>0.222922</td>\n",
       "      <td>113.571607</td>\n",
       "    </tr>\n",
       "    <tr>\n",
       "      <th>std</th>\n",
       "      <td>272.670243</td>\n",
       "      <td>8.253688e+06</td>\n",
       "      <td>557.730632</td>\n",
       "      <td>4.926587</td>\n",
       "      <td>6.010469e+22</td>\n",
       "      <td>0.126899</td>\n",
       "      <td>64.562822</td>\n",
       "    </tr>\n",
       "    <tr>\n",
       "      <th>min</th>\n",
       "      <td>0.290000</td>\n",
       "      <td>1.280000e+05</td>\n",
       "      <td>1.000000</td>\n",
       "      <td>4.610000</td>\n",
       "      <td>2.080000e+18</td>\n",
       "      <td>0.000200</td>\n",
       "      <td>0.030000</td>\n",
       "    </tr>\n",
       "    <tr>\n",
       "      <th>25%</th>\n",
       "      <td>258.750000</td>\n",
       "      <td>1.170252e+07</td>\n",
       "      <td>1.500000</td>\n",
       "      <td>20.800000</td>\n",
       "      <td>1.200276e+22</td>\n",
       "      <td>0.159201</td>\n",
       "      <td>30.582500</td>\n",
       "    </tr>\n",
       "    <tr>\n",
       "      <th>50%</th>\n",
       "      <td>632.500000</td>\n",
       "      <td>2.129009e+07</td>\n",
       "      <td>2.000000</td>\n",
       "      <td>22.500000</td>\n",
       "      <td>6.865891e+22</td>\n",
       "      <td>0.228000</td>\n",
       "      <td>148.600000</td>\n",
       "    </tr>\n",
       "    <tr>\n",
       "      <th>75%</th>\n",
       "      <td>725.500000</td>\n",
       "      <td>2.336375e+07</td>\n",
       "      <td>11.562500</td>\n",
       "      <td>23.000000</td>\n",
       "      <td>1.030252e+23</td>\n",
       "      <td>0.298858</td>\n",
       "      <td>159.175000</td>\n",
       "    </tr>\n",
       "    <tr>\n",
       "      <th>max</th>\n",
       "      <td>787.000000</td>\n",
       "      <td>2.458309e+07</td>\n",
       "      <td>2634.100000</td>\n",
       "      <td>23.700000</td>\n",
       "      <td>1.481900e+23</td>\n",
       "      <td>0.611016</td>\n",
       "      <td>166.200000</td>\n",
       "    </tr>\n",
       "  </tbody>\n",
       "</table>\n",
       "</div>"
      ],
      "text/plain": [
       "       period_days   distance_km    radius_km        mag       mass_kg  \\\n",
       "count    56.000000  5.600000e+01    56.000000  53.000000  6.000000e+00   \n",
       "mean    525.998146  1.775655e+07   158.969643  20.418302  6.551798e+22   \n",
       "std     272.670243  8.253688e+06   557.730632   4.926587  6.010469e+22   \n",
       "min       0.290000  1.280000e+05     1.000000   4.610000  2.080000e+18   \n",
       "25%     258.750000  1.170252e+07     1.500000  20.800000  1.200276e+22   \n",
       "50%     632.500000  2.129009e+07     2.000000  22.500000  6.865891e+22   \n",
       "75%     725.500000  2.336375e+07    11.562500  23.000000  1.030252e+23   \n",
       "max     787.000000  2.458309e+07  2634.100000  23.700000  1.481900e+23   \n",
       "\n",
       "             ecc  inclination_deg  \n",
       "count  56.000000        56.000000  \n",
       "mean    0.222922       113.571607  \n",
       "std     0.126899        64.562822  \n",
       "min     0.000200         0.030000  \n",
       "25%     0.159201        30.582500  \n",
       "50%     0.228000       148.600000  \n",
       "75%     0.298858       159.175000  \n",
       "max     0.611016       166.200000  "
      ]
     },
     "execution_count": 14,
     "metadata": {},
     "output_type": "execute_result"
    }
   ],
   "source": [
    "M.full_summary()"
   ]
  },
  {
   "cell_type": "markdown",
   "id": "758c3ac1",
   "metadata": {},
   "source": [
    "# Methods for linear regression"
   ]
  },
  {
   "cell_type": "markdown",
   "id": "e9003a29",
   "metadata": {},
   "source": [
    "### training()"
   ]
  },
  {
   "cell_type": "markdown",
   "id": "380c272f",
   "metadata": {},
   "source": [
    "The `training()`  method prepares the data. It adds 2 new colums to the data, T_sq and a_cu. T_sq is the peroid_days column converted into seconds and then squared, a_cu is the distance_km converted into meteres and then cubed.Then it further preps the data by splitting it into training and testing sets, and trains a linear regression model between T^2 and a^3.The trained model is then returned for further use."
   ]
  },
  {
   "cell_type": "code",
   "execution_count": 15,
   "id": "021718cb",
   "metadata": {},
   "outputs": [
    {
     "data": {
      "text/html": [
       "<style>#sk-container-id-1 {color: black;}#sk-container-id-1 pre{padding: 0;}#sk-container-id-1 div.sk-toggleable {background-color: white;}#sk-container-id-1 label.sk-toggleable__label {cursor: pointer;display: block;width: 100%;margin-bottom: 0;padding: 0.3em;box-sizing: border-box;text-align: center;}#sk-container-id-1 label.sk-toggleable__label-arrow:before {content: \"▸\";float: left;margin-right: 0.25em;color: #696969;}#sk-container-id-1 label.sk-toggleable__label-arrow:hover:before {color: black;}#sk-container-id-1 div.sk-estimator:hover label.sk-toggleable__label-arrow:before {color: black;}#sk-container-id-1 div.sk-toggleable__content {max-height: 0;max-width: 0;overflow: hidden;text-align: left;background-color: #f0f8ff;}#sk-container-id-1 div.sk-toggleable__content pre {margin: 0.2em;color: black;border-radius: 0.25em;background-color: #f0f8ff;}#sk-container-id-1 input.sk-toggleable__control:checked~div.sk-toggleable__content {max-height: 200px;max-width: 100%;overflow: auto;}#sk-container-id-1 input.sk-toggleable__control:checked~label.sk-toggleable__label-arrow:before {content: \"▾\";}#sk-container-id-1 div.sk-estimator input.sk-toggleable__control:checked~label.sk-toggleable__label {background-color: #d4ebff;}#sk-container-id-1 div.sk-label input.sk-toggleable__control:checked~label.sk-toggleable__label {background-color: #d4ebff;}#sk-container-id-1 input.sk-hidden--visually {border: 0;clip: rect(1px 1px 1px 1px);clip: rect(1px, 1px, 1px, 1px);height: 1px;margin: -1px;overflow: hidden;padding: 0;position: absolute;width: 1px;}#sk-container-id-1 div.sk-estimator {font-family: monospace;background-color: #f0f8ff;border: 1px dotted black;border-radius: 0.25em;box-sizing: border-box;margin-bottom: 0.5em;}#sk-container-id-1 div.sk-estimator:hover {background-color: #d4ebff;}#sk-container-id-1 div.sk-parallel-item::after {content: \"\";width: 100%;border-bottom: 1px solid gray;flex-grow: 1;}#sk-container-id-1 div.sk-label:hover label.sk-toggleable__label {background-color: #d4ebff;}#sk-container-id-1 div.sk-serial::before {content: \"\";position: absolute;border-left: 1px solid gray;box-sizing: border-box;top: 0;bottom: 0;left: 50%;z-index: 0;}#sk-container-id-1 div.sk-serial {display: flex;flex-direction: column;align-items: center;background-color: white;padding-right: 0.2em;padding-left: 0.2em;position: relative;}#sk-container-id-1 div.sk-item {position: relative;z-index: 1;}#sk-container-id-1 div.sk-parallel {display: flex;align-items: stretch;justify-content: center;background-color: white;position: relative;}#sk-container-id-1 div.sk-item::before, #sk-container-id-1 div.sk-parallel-item::before {content: \"\";position: absolute;border-left: 1px solid gray;box-sizing: border-box;top: 0;bottom: 0;left: 50%;z-index: -1;}#sk-container-id-1 div.sk-parallel-item {display: flex;flex-direction: column;z-index: 1;position: relative;background-color: white;}#sk-container-id-1 div.sk-parallel-item:first-child::after {align-self: flex-end;width: 50%;}#sk-container-id-1 div.sk-parallel-item:last-child::after {align-self: flex-start;width: 50%;}#sk-container-id-1 div.sk-parallel-item:only-child::after {width: 0;}#sk-container-id-1 div.sk-dashed-wrapped {border: 1px dashed gray;margin: 0 0.4em 0.5em 0.4em;box-sizing: border-box;padding-bottom: 0.4em;background-color: white;}#sk-container-id-1 div.sk-label label {font-family: monospace;font-weight: bold;display: inline-block;line-height: 1.2em;}#sk-container-id-1 div.sk-label-container {text-align: center;}#sk-container-id-1 div.sk-container {/* jupyter's `normalize.less` sets `[hidden] { display: none; }` but bootstrap.min.css set `[hidden] { display: none !important; }` so we also need the `!important` here to be able to override the default hidden behavior on the sphinx rendered scikit-learn.org. See: https://github.com/scikit-learn/scikit-learn/issues/21755 */display: inline-block !important;position: relative;}#sk-container-id-1 div.sk-text-repr-fallback {display: none;}</style><div id=\"sk-container-id-1\" class=\"sk-top-container\"><div class=\"sk-text-repr-fallback\"><pre>LinearRegression()</pre><b>In a Jupyter environment, please rerun this cell to show the HTML representation or trust the notebook. <br />On GitHub, the HTML representation is unable to render, please try loading this page with nbviewer.org.</b></div><div class=\"sk-container\" hidden><div class=\"sk-item\"><div class=\"sk-estimator sk-toggleable\"><input class=\"sk-toggleable__control sk-hidden--visually\" id=\"sk-estimator-id-1\" type=\"checkbox\" checked><label for=\"sk-estimator-id-1\" class=\"sk-toggleable__label sk-toggleable__label-arrow\">LinearRegression</label><div class=\"sk-toggleable__content\"><pre>LinearRegression()</pre></div></div></div></div></div>"
      ],
      "text/plain": [
       "LinearRegression()"
      ]
     },
     "execution_count": 15,
     "metadata": {},
     "output_type": "execute_result"
    }
   ],
   "source": [
    "M.training()"
   ]
  },
  {
   "cell_type": "markdown",
   "id": "9b3706de",
   "metadata": {},
   "source": [
    "this adds new atributes to the object M: x_train,y_train,x_test,y_test and model_y. The model_y attribute is the model itself the other atributes are self explaned, they simply hold their respective testing and training data"
   ]
  },
  {
   "cell_type": "markdown",
   "id": "e28dd5ab",
   "metadata": {},
   "source": [
    "### testing()"
   ]
  },
  {
   "cell_type": "markdown",
   "id": "92d038f9",
   "metadata": {},
   "source": [
    "the `testing()` function uses the new data the training method has given to the moons atributes. It will use the testing data generated in the training method to perform a test perdiction and then caculate a r2 socre and the mse and assign these as atributes to the class."
   ]
  },
  {
   "cell_type": "code",
   "execution_count": 16,
   "id": "1eb0950b",
   "metadata": {},
   "outputs": [
    {
     "data": {
      "text/plain": [
       "(0.998705625694115, 4.600917619637474e+58)"
      ]
     },
     "execution_count": 16,
     "metadata": {},
     "output_type": "execute_result"
    }
   ],
   "source": [
    "M.testing()"
   ]
  },
  {
   "cell_type": "markdown",
   "id": "0c911487",
   "metadata": {},
   "source": [
    "this does not add any atributes to the M object, simply returns a r2 score"
   ]
  },
  {
   "cell_type": "markdown",
   "id": "6fc759ec",
   "metadata": {},
   "source": [
    "### predict()"
   ]
  },
  {
   "cell_type": "markdown",
   "id": "17801966",
   "metadata": {},
   "source": [
    "the `predict()` function also uses the data the training method has updated to predict the values of y (in this case y is a_cu) and then perfrom a calculation to estimate the mass of jupter using the model which was made in the training method and return the estmated mas sof jupiter."
   ]
  },
  {
   "cell_type": "code",
   "execution_count": 17,
   "id": "2fde7340",
   "metadata": {},
   "outputs": [
    {
     "data": {
      "text/plain": [
       "1.939408615086152e+27"
      ]
     },
     "execution_count": 17,
     "metadata": {},
     "output_type": "execute_result"
    }
   ],
   "source": [
    "M.predict()"
   ]
  },
  {
   "cell_type": "markdown",
   "id": "f617505c",
   "metadata": {},
   "source": [
    "this adds an atribute estimated_mass_jupiter holding the models estimation of jupiters mass"
   ]
  },
  {
   "cell_type": "markdown",
   "id": "b8b35abf",
   "metadata": {},
   "source": [
    "### evaluation()"
   ]
  },
  {
   "cell_type": "markdown",
   "id": "707ea85d",
   "metadata": {},
   "source": [
    "`evaluation()` this is used to display some visulisations for the performace of the model. It will not return anything however it will show 2 plots, a scatter plot with predictions vs actual values and a historgram with residuals."
   ]
  },
  {
   "cell_type": "code",
   "execution_count": 18,
   "id": "46bacde5",
   "metadata": {},
   "outputs": [
    {
     "data": {
      "image/png": "[encoded data removed]",
      "text/plain": [
       "<Figure size 1200x600 with 2 Axes>"
      ]
     },
     "metadata": {},
     "output_type": "display_data"
    }
   ],
   "source": [
    "M.evaluation()"
   ]
  },
  {
   "cell_type": "code",
   "execution_count": null,
   "id": "71e6e970",
   "metadata": {},
   "outputs": [],
   "source": []
  },
  {
   "cell_type": "markdown",
   "id": "1acade3a",
   "metadata": {},
   "source": [
    "---"
   ]
  },
  {
   "cell_type": "markdown",
   "id": "8ca708b1",
   "metadata": {},
   "source": [
    "# A basic Statistical analysis of the jupiter data set "
   ]
  },
  {
   "cell_type": "markdown",
   "id": "155c3730",
   "metadata": {},
   "source": [
    "To start I would recomend using the information method as this gives you basic information about the fields on the data including data types "
   ]
  },
  {
   "cell_type": "code",
   "execution_count": 19,
   "id": "0a927264",
   "metadata": {},
   "outputs": [
    {
     "name": "stdout",
     "output_type": "stream",
     "text": [
      "<class 'pandas.core.frame.DataFrame'>\n",
      "RangeIndex: 56 entries, 0 to 55\n",
      "Data columns (total 9 columns):\n",
      " #   Column           Non-Null Count  Dtype  \n",
      "---  ------           --------------  -----  \n",
      " 0   moon             56 non-null     object \n",
      " 1   period_days      56 non-null     float64\n",
      " 2   distance_km      56 non-null     float64\n",
      " 3   radius_km        56 non-null     float64\n",
      " 4   mag              53 non-null     float64\n",
      " 5   mass_kg          6 non-null      float64\n",
      " 6   group            56 non-null     object \n",
      " 7   ecc              56 non-null     float64\n",
      " 8   inclination_deg  56 non-null     float64\n",
      "dtypes: float64(7), object(2)\n",
      "memory usage: 4.1+ KB\n"
     ]
    }
   ],
   "source": [
    "Moon = Moons()\n",
    "Moon.information()"
   ]
  },
  {
   "cell_type": "markdown",
   "id": "2394bd73",
   "metadata": {},
   "source": [
    "Here we can see that there are currently 8 columns in this database, 7 of which are floats and 2 of which which are objects. This also gives information on how many non-null entries there are for each column. For mass there is only 6 non-null entries and mag has 53 non-null entries whilst we can see as the top of the information table that there should be 56 entries (RangeIndex)"
   ]
  },
  {
   "cell_type": "markdown",
   "id": "0ba2bbf6",
   "metadata": {},
   "source": [
    "Now we will take a closer look at the fields with missing entries mass and mag. We want to know if these values should be null or not, first taking mass into account we can assume that we may not have much nformation of jupiters other moons and therefore we would have to fill these blanks with null values. Mag is missing 3 entries and this could be because of the smae reason as mass we simply dont have the information on those moons."
   ]
  },
  {
   "cell_type": "markdown",
   "id": "433e1951",
   "metadata": {},
   "source": [
    "---"
   ]
  },
  {
   "cell_type": "markdown",
   "id": "583c74e5",
   "metadata": {},
   "source": [
    "I then would recoment using the full_summary method as this gives you lots of information about the numerical data quickly"
   ]
  },
  {
   "cell_type": "code",
   "execution_count": 20,
   "id": "138000fb",
   "metadata": {},
   "outputs": [
    {
     "data": {
      "text/html": [
       "<div>\n",
       "<style scoped>\n",
       "    .dataframe tbody tr th:only-of-type {\n",
       "        vertical-align: middle;\n",
       "    }\n",
       "\n",
       "    .dataframe tbody tr th {\n",
       "        vertical-align: top;\n",
       "    }\n",
       "\n",
       "    .dataframe thead th {\n",
       "        text-align: right;\n",
       "    }\n",
       "</style>\n",
       "<table border=\"1\" class=\"dataframe\">\n",
       "  <thead>\n",
       "    <tr style=\"text-align: right;\">\n",
       "      <th></th>\n",
       "      <th>period_days</th>\n",
       "      <th>distance_km</th>\n",
       "      <th>radius_km</th>\n",
       "      <th>mag</th>\n",
       "      <th>mass_kg</th>\n",
       "      <th>ecc</th>\n",
       "      <th>inclination_deg</th>\n",
       "    </tr>\n",
       "  </thead>\n",
       "  <tbody>\n",
       "    <tr>\n",
       "      <th>count</th>\n",
       "      <td>56.000000</td>\n",
       "      <td>5.600000e+01</td>\n",
       "      <td>56.000000</td>\n",
       "      <td>53.000000</td>\n",
       "      <td>6.000000e+00</td>\n",
       "      <td>56.000000</td>\n",
       "      <td>56.000000</td>\n",
       "    </tr>\n",
       "    <tr>\n",
       "      <th>mean</th>\n",
       "      <td>525.998146</td>\n",
       "      <td>1.775655e+07</td>\n",
       "      <td>158.969643</td>\n",
       "      <td>20.418302</td>\n",
       "      <td>6.551798e+22</td>\n",
       "      <td>0.222922</td>\n",
       "      <td>113.571607</td>\n",
       "    </tr>\n",
       "    <tr>\n",
       "      <th>std</th>\n",
       "      <td>272.670243</td>\n",
       "      <td>8.253688e+06</td>\n",
       "      <td>557.730632</td>\n",
       "      <td>4.926587</td>\n",
       "      <td>6.010469e+22</td>\n",
       "      <td>0.126899</td>\n",
       "      <td>64.562822</td>\n",
       "    </tr>\n",
       "    <tr>\n",
       "      <th>min</th>\n",
       "      <td>0.290000</td>\n",
       "      <td>1.280000e+05</td>\n",
       "      <td>1.000000</td>\n",
       "      <td>4.610000</td>\n",
       "      <td>2.080000e+18</td>\n",
       "      <td>0.000200</td>\n",
       "      <td>0.030000</td>\n",
       "    </tr>\n",
       "    <tr>\n",
       "      <th>25%</th>\n",
       "      <td>258.750000</td>\n",
       "      <td>1.170252e+07</td>\n",
       "      <td>1.500000</td>\n",
       "      <td>20.800000</td>\n",
       "      <td>1.200276e+22</td>\n",
       "      <td>0.159201</td>\n",
       "      <td>30.582500</td>\n",
       "    </tr>\n",
       "    <tr>\n",
       "      <th>50%</th>\n",
       "      <td>632.500000</td>\n",
       "      <td>2.129009e+07</td>\n",
       "      <td>2.000000</td>\n",
       "      <td>22.500000</td>\n",
       "      <td>6.865891e+22</td>\n",
       "      <td>0.228000</td>\n",
       "      <td>148.600000</td>\n",
       "    </tr>\n",
       "    <tr>\n",
       "      <th>75%</th>\n",
       "      <td>725.500000</td>\n",
       "      <td>2.336375e+07</td>\n",
       "      <td>11.562500</td>\n",
       "      <td>23.000000</td>\n",
       "      <td>1.030252e+23</td>\n",
       "      <td>0.298858</td>\n",
       "      <td>159.175000</td>\n",
       "    </tr>\n",
       "    <tr>\n",
       "      <th>max</th>\n",
       "      <td>787.000000</td>\n",
       "      <td>2.458309e+07</td>\n",
       "      <td>2634.100000</td>\n",
       "      <td>23.700000</td>\n",
       "      <td>1.481900e+23</td>\n",
       "      <td>0.611016</td>\n",
       "      <td>166.200000</td>\n",
       "    </tr>\n",
       "  </tbody>\n",
       "</table>\n",
       "</div>"
      ],
      "text/plain": [
       "       period_days   distance_km    radius_km        mag       mass_kg  \\\n",
       "count    56.000000  5.600000e+01    56.000000  53.000000  6.000000e+00   \n",
       "mean    525.998146  1.775655e+07   158.969643  20.418302  6.551798e+22   \n",
       "std     272.670243  8.253688e+06   557.730632   4.926587  6.010469e+22   \n",
       "min       0.290000  1.280000e+05     1.000000   4.610000  2.080000e+18   \n",
       "25%     258.750000  1.170252e+07     1.500000  20.800000  1.200276e+22   \n",
       "50%     632.500000  2.129009e+07     2.000000  22.500000  6.865891e+22   \n",
       "75%     725.500000  2.336375e+07    11.562500  23.000000  1.030252e+23   \n",
       "max     787.000000  2.458309e+07  2634.100000  23.700000  1.481900e+23   \n",
       "\n",
       "             ecc  inclination_deg  \n",
       "count  56.000000        56.000000  \n",
       "mean    0.222922       113.571607  \n",
       "std     0.126899        64.562822  \n",
       "min     0.000200         0.030000  \n",
       "25%     0.159201        30.582500  \n",
       "50%     0.228000       148.600000  \n",
       "75%     0.298858       159.175000  \n",
       "max     0.611016       166.200000  "
      ]
     },
     "execution_count": 20,
     "metadata": {},
     "output_type": "execute_result"
    }
   ],
   "source": [
    "Moon.full_summary()"
   ]
  },
  {
   "cell_type": "markdown",
   "id": "7a56fa2a",
   "metadata": {},
   "source": [
    "An important row here to look at is the __count__ row. This gives you the number of non NULL entries in given column. From this we can se ein the mass column we only have 6 entires and in the mag column we have 53 non-null entries."
   ]
  },
  {
   "cell_type": "markdown",
   "id": "b5661591",
   "metadata": {},
   "source": [
    "---"
   ]
  },
  {
   "cell_type": "markdown",
   "id": "8cd3aa21",
   "metadata": {},
   "source": [
    "Now we may want to simply look at the entirity of the table now just to see the range of values etc.    \n",
    "So now we will use the peek() method."
   ]
  },
  {
   "cell_type": "code",
   "execution_count": 21,
   "id": "d69f97ed",
   "metadata": {},
   "outputs": [
    {
     "data": {
      "text/html": [
       "<div>\n",
       "<style scoped>\n",
       "    .dataframe tbody tr th:only-of-type {\n",
       "        vertical-align: middle;\n",
       "    }\n",
       "\n",
       "    .dataframe tbody tr th {\n",
       "        vertical-align: top;\n",
       "    }\n",
       "\n",
       "    .dataframe thead th {\n",
       "        text-align: right;\n",
       "    }\n",
       "</style>\n",
       "<table border=\"1\" class=\"dataframe\">\n",
       "  <thead>\n",
       "    <tr style=\"text-align: right;\">\n",
       "      <th></th>\n",
       "      <th>moon</th>\n",
       "      <th>period_days</th>\n",
       "      <th>distance_km</th>\n",
       "      <th>radius_km</th>\n",
       "      <th>mag</th>\n",
       "      <th>mass_kg</th>\n",
       "      <th>group</th>\n",
       "      <th>ecc</th>\n",
       "      <th>inclination_deg</th>\n",
       "    </tr>\n",
       "  </thead>\n",
       "  <tbody>\n",
       "    <tr>\n",
       "      <th>0</th>\n",
       "      <td>Adrastea</td>\n",
       "      <td>0.298</td>\n",
       "      <td>129000.0</td>\n",
       "      <td>8.2</td>\n",
       "      <td>NaN</td>\n",
       "      <td>NaN</td>\n",
       "      <td>Inner</td>\n",
       "      <td>0.001500</td>\n",
       "      <td>0.03</td>\n",
       "    </tr>\n",
       "    <tr>\n",
       "      <th>1</th>\n",
       "      <td>Aitne</td>\n",
       "      <td>730.000</td>\n",
       "      <td>23231000.0</td>\n",
       "      <td>1.5</td>\n",
       "      <td>22.7</td>\n",
       "      <td>NaN</td>\n",
       "      <td>Carme</td>\n",
       "      <td>0.264000</td>\n",
       "      <td>165.00</td>\n",
       "    </tr>\n",
       "    <tr>\n",
       "      <th>2</th>\n",
       "      <td>Amalthea</td>\n",
       "      <td>0.498</td>\n",
       "      <td>181400.0</td>\n",
       "      <td>83.5</td>\n",
       "      <td>14.1</td>\n",
       "      <td>2.080000e+18</td>\n",
       "      <td>Inner</td>\n",
       "      <td>0.003190</td>\n",
       "      <td>0.37</td>\n",
       "    </tr>\n",
       "    <tr>\n",
       "      <th>3</th>\n",
       "      <td>Ananke</td>\n",
       "      <td>630.000</td>\n",
       "      <td>21300000.0</td>\n",
       "      <td>14.0</td>\n",
       "      <td>18.9</td>\n",
       "      <td>NaN</td>\n",
       "      <td>Ananke</td>\n",
       "      <td>0.174725</td>\n",
       "      <td>148.60</td>\n",
       "    </tr>\n",
       "    <tr>\n",
       "      <th>4</th>\n",
       "      <td>Aoede</td>\n",
       "      <td>761.000</td>\n",
       "      <td>24000000.0</td>\n",
       "      <td>2.0</td>\n",
       "      <td>22.5</td>\n",
       "      <td>NaN</td>\n",
       "      <td>Pasiphae</td>\n",
       "      <td>0.432000</td>\n",
       "      <td>158.00</td>\n",
       "    </tr>\n",
       "  </tbody>\n",
       "</table>\n",
       "</div>"
      ],
      "text/plain": [
       "       moon  period_days  distance_km  radius_km   mag       mass_kg  \\\n",
       "0  Adrastea        0.298     129000.0        8.2   NaN           NaN   \n",
       "1     Aitne      730.000   23231000.0        1.5  22.7           NaN   \n",
       "2  Amalthea        0.498     181400.0       83.5  14.1  2.080000e+18   \n",
       "3    Ananke      630.000   21300000.0       14.0  18.9           NaN   \n",
       "4     Aoede      761.000   24000000.0        2.0  22.5           NaN   \n",
       "\n",
       "      group       ecc  inclination_deg  \n",
       "0     Inner  0.001500             0.03  \n",
       "1     Carme  0.264000           165.00  \n",
       "2     Inner  0.003190             0.37  \n",
       "3    Ananke  0.174725           148.60  \n",
       "4  Pasiphae  0.432000           158.00  "
      ]
     },
     "execution_count": 21,
     "metadata": {},
     "output_type": "execute_result"
    }
   ],
   "source": [
    "Moon.peek(5)"
   ]
  },
  {
   "cell_type": "markdown",
   "id": "034dbb02",
   "metadata": {},
   "source": [
    "from this we can judge weather the data looks reasonable which it does in this case but if we wanted to check the entirity of the table we could use the show method shown below "
   ]
  },
  {
   "cell_type": "code",
   "execution_count": 22,
   "id": "27aae148",
   "metadata": {
    "scrolled": true
   },
   "outputs": [
    {
     "name": "stdout",
     "output_type": "stream",
     "text": [
      "             moon  period_days  distance_km  radius_km    mag       mass_kg  \\\n",
      "0        Adrastea     0.298000     129000.0       8.20    NaN           NaN   \n",
      "1           Aitne   730.000000   23231000.0       1.50  22.70           NaN   \n",
      "2        Amalthea     0.498000     181400.0      83.50  14.10  2.080000e+18   \n",
      "3          Ananke   630.000000   21300000.0      14.00  18.90           NaN   \n",
      "4           Aoede   761.000000   24000000.0       2.00  22.50           NaN   \n",
      "5           Arche   724.000000   22931000.0       1.50  22.80           NaN   \n",
      "6         Autonoe   719.000000   23039000.0       2.00  22.00           NaN   \n",
      "7      Callirrhoe   787.000000   24583090.0       4.80  20.80           NaN   \n",
      "8        Callisto    16.689018    1882700.0    2410.30   5.65  1.075938e+23   \n",
      "9           Carme   693.000000   22579850.0      23.35  18.90           NaN   \n",
      "10          Carpo   456.000000   16989000.0       1.50  23.00           NaN   \n",
      "11       Chaldene   760.000000   24006280.0       2.00  22.50           NaN   \n",
      "12        Cyllene   738.000000   24349000.0       1.00  23.20           NaN   \n",
      "13            Dia   287.000000   12118000.0       2.00  22.40           NaN   \n",
      "14         Eirene   744.000000   23731770.0       2.00  22.50           NaN   \n",
      "15          Elara   259.000000   11703130.0      40.00  16.60           NaN   \n",
      "16        Erinome   683.000000   22354200.0       1.50  22.80           NaN   \n",
      "17           Ersa   252.000000   11483000.0       1.50  22.90           NaN   \n",
      "18        Euanthe   603.000000   20799000.0       1.50  22.80           NaN   \n",
      "19       Eukelade   693.000000   23661000.0       2.00  22.60           NaN   \n",
      "20        Eupheme   628.000000   21199710.0       1.00  23.40           NaN   \n",
      "21        Euporie   551.000000   19302000.0       1.00  23.10           NaN   \n",
      "22         Europa     3.551181     670900.0    1560.80   5.29  4.799844e+22   \n",
      "23       Eurydome   723.000000   23214490.0       1.50  22.70           NaN   \n",
      "24       Ganymede     7.150000    1070400.0    2634.10   4.61  1.481900e+23   \n",
      "25      Harpalyke   624.000000   21280180.0       2.00  22.20           NaN   \n",
      "26       Hegemone   740.000000   23947000.0       1.50  22.80           NaN   \n",
      "27         Helike   635.000000   21263000.0       2.00  22.60           NaN   \n",
      "28       Hermippe   607.000000   20665870.0       2.00  22.10           NaN   \n",
      "29          Herse   715.000000   23097000.0       1.00  23.40           NaN   \n",
      "30        Himalia   248.000000   11388690.0      85.00  14.60  4.200000e+18   \n",
      "31             Io     1.750000     421700.0    1821.60   5.02  8.931938e+22   \n",
      "32        Iocaste   641.000000   21431650.0       2.50  21.80           NaN   \n",
      "33         Isonoe   689.000000   23322670.0       2.00  22.50           NaN   \n",
      "34           Kale   737.000000   23512340.0       1.00  23.00           NaN   \n",
      "35     Kallichore   765.000000   24043000.0       1.00  23.70           NaN   \n",
      "36         Kalyke   767.000000   24147770.0       3.50  21.80           NaN   \n",
      "37           Kore   779.000000   24543000.0       1.00  23.60           NaN   \n",
      "38           Leda   242.000000   11195980.0      10.75  20.20           NaN   \n",
      "39       Lysithea   258.000000   11700710.0      21.00  18.20           NaN   \n",
      "40      Megaclite   747.000000   23736190.0       3.00  21.70           NaN   \n",
      "41          Metis     0.290000     128000.0      21.50    NaN           NaN   \n",
      "42          Mneme   620.000000   21069000.0       1.00  23.30           NaN   \n",
      "43       Orthosie   629.000000   21170540.0       1.00  23.10           NaN   \n",
      "44         Pandia   252.000000   11525000.0       1.50  23.00           NaN   \n",
      "45       Pasiphae   722.000000   23208940.0      28.90  16.90           NaN   \n",
      "46       Pasithee   711.000000   22967990.0       1.00  23.20           NaN   \n",
      "47  Philophrosyne   701.000000   22819950.0       1.00  23.50           NaN   \n",
      "48      Praxidike   609.000000   21147000.0       3.50  21.20           NaN   \n",
      "49         Sinope   777.000000   24371650.0      17.50  18.30           NaN   \n",
      "50         Sponde   735.000000   23487000.0       1.00  23.00           NaN   \n",
      "51        Taygete   692.000000   22546240.0       2.50  21.90           NaN   \n",
      "52          Thebe     0.670000     221889.0      49.00    NaN           NaN   \n",
      "53      Thelxinoe   628.000000   21162000.0       1.00  23.50           NaN   \n",
      "54       Themisto   130.000000    7396130.0       4.50  21.00           NaN   \n",
      "55         Thyone   604.000000   20940000.0       2.00  22.30           NaN   \n",
      "\n",
      "       group       ecc  inclination_deg  \n",
      "0      Inner  0.001500             0.03  \n",
      "1      Carme  0.264000           165.00  \n",
      "2      Inner  0.003190             0.37  \n",
      "3     Ananke  0.174725           148.60  \n",
      "4   Pasiphae  0.432000           158.00  \n",
      "5      Carme  0.259000           165.00  \n",
      "6   Pasiphae  0.334000           153.00  \n",
      "7   Pasiphae  0.309570           148.00  \n",
      "8   Galilean  0.007400             2.02  \n",
      "9      Carme  0.229493           163.00  \n",
      "10     other  0.430000            51.40  \n",
      "11     Carme  0.150086           164.00  \n",
      "12  Pasiphae  0.319000           149.00  \n",
      "13   Himalia  0.211000            28.30  \n",
      "14     Carme  0.241300           162.70  \n",
      "15   Himalia  0.196149            30.50  \n",
      "16     Carme  0.205256           164.80  \n",
      "17   Himalia  0.094000            30.61  \n",
      "18    Ananke  0.232000           148.90  \n",
      "19     Carme  0.272000           165.50  \n",
      "20    Ananke  0.253000           148.00  \n",
      "21    Ananke  0.144000           145.80  \n",
      "22  Galilean  0.009000             1.79  \n",
      "23  Pasiphae  0.297537           150.00  \n",
      "24  Galilean  0.001300             2.20  \n",
      "25    Ananke  0.160268           148.29  \n",
      "26  Pasiphae  0.328000           155.20  \n",
      "27    Ananke  0.156000           154.80  \n",
      "28    Ananke  0.198252           146.70  \n",
      "29     Carme  0.200000           164.20  \n",
      "30   Himalia  0.153786            29.90  \n",
      "31  Galilean  0.004100             2.20  \n",
      "32    Ananke  0.329491           149.40  \n",
      "33     Carme  0.226312           164.40  \n",
      "34     Carme  0.289346           166.20  \n",
      "35     Carme  0.264000           165.50  \n",
      "36     Carme  0.302822           165.90  \n",
      "37  Pasiphae  0.325000           145.00  \n",
      "38   Himalia  0.164879            27.60  \n",
      "39   Hamilia  0.147873            26.30  \n",
      "40  Pasiphae  0.410217           143.00  \n",
      "41     Inner  0.000200             2.00  \n",
      "42    Ananke  0.227000           148.60  \n",
      "43    Ananke  0.483724           148.00  \n",
      "44   Himalia  0.180000            28.00  \n",
      "45  Pasiphae  0.611016           153.00  \n",
      "46     Carme  0.209703           165.00  \n",
      "47  Pasiphae  0.194000           144.00  \n",
      "48    Ananke  0.230000           149.00  \n",
      "49  Pasiphae  0.336655           158.00  \n",
      "50  Pasiphae  0.312000           151.00  \n",
      "51     Carme  0.248754           166.00  \n",
      "52     Inner  0.017500             1.10  \n",
      "53    Ananke  0.221000           151.40  \n",
      "54     other  0.252211            45.30  \n",
      "55    Ananke  0.229000           148.50  \n"
     ]
    }
   ],
   "source": [
    "Moon.show()"
   ]
  },
  {
   "cell_type": "markdown",
   "id": "82705bfd",
   "metadata": {},
   "source": [
    "However this can get messy as your table grows so i suggest using the other avalable methods to analyse the data such as peek"
   ]
  },
  {
   "cell_type": "markdown",
   "id": "2040043d",
   "metadata": {},
   "source": [
    "--- "
   ]
  },
  {
   "cell_type": "markdown",
   "id": "edd495d7",
   "metadata": {},
   "source": [
    "Now we have basic information on this dataframe we can start to look at corelations and plots."
   ]
  },
  {
   "cell_type": "markdown",
   "id": "81e61e22",
   "metadata": {},
   "source": [
    "So the first thing to do should be to look at the correlation matrix as we dont want to go thorugh each column 1 by 1 we will set full to True to get the full corelation matrix."
   ]
  },
  {
   "cell_type": "code",
   "execution_count": 23,
   "id": "a570eca6",
   "metadata": {},
   "outputs": [
    {
     "name": "stderr",
     "output_type": "stream",
     "text": [
      "C:\\Users\\Administrator\\Desktop\\assessment 1\\jupiter.py:38: FutureWarning: The default value of numeric_only in DataFrame.corr is deprecated. In a future version, it will default to False. Select only valid columns or specify the value of numeric_only to silence this warning.\n",
      "  return self.data.corr()\n"
     ]
    },
    {
     "data": {
      "text/html": [
       "<div>\n",
       "<style scoped>\n",
       "    .dataframe tbody tr th:only-of-type {\n",
       "        vertical-align: middle;\n",
       "    }\n",
       "\n",
       "    .dataframe tbody tr th {\n",
       "        vertical-align: top;\n",
       "    }\n",
       "\n",
       "    .dataframe thead th {\n",
       "        text-align: right;\n",
       "    }\n",
       "</style>\n",
       "<table border=\"1\" class=\"dataframe\">\n",
       "  <thead>\n",
       "    <tr style=\"text-align: right;\">\n",
       "      <th></th>\n",
       "      <th>period_days</th>\n",
       "      <th>distance_km</th>\n",
       "      <th>radius_km</th>\n",
       "      <th>mag</th>\n",
       "      <th>mass_kg</th>\n",
       "      <th>ecc</th>\n",
       "      <th>inclination_deg</th>\n",
       "    </tr>\n",
       "  </thead>\n",
       "  <tbody>\n",
       "    <tr>\n",
       "      <th>period_days</th>\n",
       "      <td>1.000000</td>\n",
       "      <td>0.991521</td>\n",
       "      <td>-0.534434</td>\n",
       "      <td>0.742646</td>\n",
       "      <td>-0.504430</td>\n",
       "      <td>0.737181</td>\n",
       "      <td>0.969493</td>\n",
       "    </tr>\n",
       "    <tr>\n",
       "      <th>distance_km</th>\n",
       "      <td>0.991521</td>\n",
       "      <td>1.000000</td>\n",
       "      <td>-0.567266</td>\n",
       "      <td>0.799187</td>\n",
       "      <td>-0.453339</td>\n",
       "      <td>0.750819</td>\n",
       "      <td>0.953873</td>\n",
       "    </tr>\n",
       "    <tr>\n",
       "      <th>radius_km</th>\n",
       "      <td>-0.534434</td>\n",
       "      <td>-0.567266</td>\n",
       "      <td>1.000000</td>\n",
       "      <td>-0.887393</td>\n",
       "      <td>0.968379</td>\n",
       "      <td>-0.478901</td>\n",
       "      <td>-0.487645</td>\n",
       "    </tr>\n",
       "    <tr>\n",
       "      <th>mag</th>\n",
       "      <td>0.742646</td>\n",
       "      <td>0.799187</td>\n",
       "      <td>-0.887393</td>\n",
       "      <td>1.000000</td>\n",
       "      <td>-0.861359</td>\n",
       "      <td>0.554617</td>\n",
       "      <td>0.688529</td>\n",
       "    </tr>\n",
       "    <tr>\n",
       "      <th>mass_kg</th>\n",
       "      <td>-0.504430</td>\n",
       "      <td>-0.453339</td>\n",
       "      <td>0.968379</td>\n",
       "      <td>-0.861359</td>\n",
       "      <td>1.000000</td>\n",
       "      <td>-0.543138</td>\n",
       "      <td>-0.489378</td>\n",
       "    </tr>\n",
       "    <tr>\n",
       "      <th>ecc</th>\n",
       "      <td>0.737181</td>\n",
       "      <td>0.750819</td>\n",
       "      <td>-0.478901</td>\n",
       "      <td>0.554617</td>\n",
       "      <td>-0.543138</td>\n",
       "      <td>1.000000</td>\n",
       "      <td>0.645961</td>\n",
       "    </tr>\n",
       "    <tr>\n",
       "      <th>inclination_deg</th>\n",
       "      <td>0.969493</td>\n",
       "      <td>0.953873</td>\n",
       "      <td>-0.487645</td>\n",
       "      <td>0.688529</td>\n",
       "      <td>-0.489378</td>\n",
       "      <td>0.645961</td>\n",
       "      <td>1.000000</td>\n",
       "    </tr>\n",
       "  </tbody>\n",
       "</table>\n",
       "</div>"
      ],
      "text/plain": [
       "                 period_days  distance_km  radius_km       mag   mass_kg  \\\n",
       "period_days         1.000000     0.991521  -0.534434  0.742646 -0.504430   \n",
       "distance_km         0.991521     1.000000  -0.567266  0.799187 -0.453339   \n",
       "radius_km          -0.534434    -0.567266   1.000000 -0.887393  0.968379   \n",
       "mag                 0.742646     0.799187  -0.887393  1.000000 -0.861359   \n",
       "mass_kg            -0.504430    -0.453339   0.968379 -0.861359  1.000000   \n",
       "ecc                 0.737181     0.750819  -0.478901  0.554617 -0.543138   \n",
       "inclination_deg     0.969493     0.953873  -0.487645  0.688529 -0.489378   \n",
       "\n",
       "                      ecc  inclination_deg  \n",
       "period_days      0.737181         0.969493  \n",
       "distance_km      0.750819         0.953873  \n",
       "radius_km       -0.478901        -0.487645  \n",
       "mag              0.554617         0.688529  \n",
       "mass_kg         -0.543138        -0.489378  \n",
       "ecc              1.000000         0.645961  \n",
       "inclination_deg  0.645961         1.000000  "
      ]
     },
     "execution_count": 23,
     "metadata": {},
     "output_type": "execute_result"
    }
   ],
   "source": [
    "Moon.correlation(True)"
   ]
  },
  {
   "cell_type": "markdown",
   "id": "6d3f40d3",
   "metadata": {},
   "source": [
    "now we can choose 2 colums which have a corelation and visulise this as a scatter plot on a graph using the plot method.  \n",
    "In the example below I will plot peroid_days on the x axis and distance_km on the y axis."
   ]
  },
  {
   "cell_type": "code",
   "execution_count": 24,
   "id": "72f79758",
   "metadata": {},
   "outputs": [
    {
     "data": {
      "image/png": "[encoded data removed]",
      "text/plain": [
       "<Figure size 500x500 with 1 Axes>"
      ]
     },
     "metadata": {},
     "output_type": "display_data"
    }
   ],
   "source": [
    "Moon.plot(\"period_days\",\"distance_km\")"
   ]
  },
  {
   "cell_type": "markdown",
   "id": "256df377",
   "metadata": {},
   "source": [
    "Here we can see the clear corelation between these 2 coulmns and we can make further plots to visulise the data, looking at the correlation matrix to see what columns we are intrested in "
   ]
  },
  {
   "cell_type": "markdown",
   "id": "6718a94c",
   "metadata": {},
   "source": [
    "---"
   ]
  },
  {
   "cell_type": "markdown",
   "id": "1b410d3a",
   "metadata": {},
   "source": [
    "# Regression motivation and analysis "
   ]
  },
  {
   "cell_type": "markdown",
   "id": "67a93983",
   "metadata": {},
   "source": [
    "First when starting the regression model we need to prepare our data.To do this we must convert the units on the period days and distance km columns and we will add these new columns to our dataframe then we will split our data into training and testing data and create a linear model with a fitted intercept in this case as if T_sq is 0 this doesnt inhrerently mean that a_cu is 0.\n",
    "\n"
   ]
  },
  {
   "cell_type": "markdown",
   "id": "56b0b257",
   "metadata": {},
   "source": [
    "below is the training method which prepares our data and creates the model for us to use.  "
   ]
  },
  {
   "cell_type": "code",
   "execution_count": 25,
   "id": "d48b3c5d",
   "metadata": {},
   "outputs": [],
   "source": [
    "def training(self):\n",
    "    self.data['T_sq'] = (self.data['period_days'] * 86400) ** 2\n",
    "    self.data['a_cu'] = (self.data['distance_km'] * 1000) ** 3\n",
    "\n",
    "    X = self.data[['T_sq']]\n",
    "    Y = self.data['a_cu']\n",
    "\n",
    "    self.x_train, self.x_test, self.y_train, self.y_test = train_test_split(X, Y, test_size=0.3)\n",
    "\n",
    "    self.model_y = linear_model.LinearRegression(fit_intercept=True)\n",
    "    self.model_y.fit(self.x_train, self.y_train)\n",
    "    return self.model_y"
   ]
  },
  {
   "cell_type": "code",
   "execution_count": 26,
   "id": "bd7d1f08",
   "metadata": {},
   "outputs": [
    {
     "data": {
      "text/html": [
       "<style>#sk-container-id-2 {color: black;}#sk-container-id-2 pre{padding: 0;}#sk-container-id-2 div.sk-toggleable {background-color: white;}#sk-container-id-2 label.sk-toggleable__label {cursor: pointer;display: block;width: 100%;margin-bottom: 0;padding: 0.3em;box-sizing: border-box;text-align: center;}#sk-container-id-2 label.sk-toggleable__label-arrow:before {content: \"▸\";float: left;margin-right: 0.25em;color: #696969;}#sk-container-id-2 label.sk-toggleable__label-arrow:hover:before {color: black;}#sk-container-id-2 div.sk-estimator:hover label.sk-toggleable__label-arrow:before {color: black;}#sk-container-id-2 div.sk-toggleable__content {max-height: 0;max-width: 0;overflow: hidden;text-align: left;background-color: #f0f8ff;}#sk-container-id-2 div.sk-toggleable__content pre {margin: 0.2em;color: black;border-radius: 0.25em;background-color: #f0f8ff;}#sk-container-id-2 input.sk-toggleable__control:checked~div.sk-toggleable__content {max-height: 200px;max-width: 100%;overflow: auto;}#sk-container-id-2 input.sk-toggleable__control:checked~label.sk-toggleable__label-arrow:before {content: \"▾\";}#sk-container-id-2 div.sk-estimator input.sk-toggleable__control:checked~label.sk-toggleable__label {background-color: #d4ebff;}#sk-container-id-2 div.sk-label input.sk-toggleable__control:checked~label.sk-toggleable__label {background-color: #d4ebff;}#sk-container-id-2 input.sk-hidden--visually {border: 0;clip: rect(1px 1px 1px 1px);clip: rect(1px, 1px, 1px, 1px);height: 1px;margin: -1px;overflow: hidden;padding: 0;position: absolute;width: 1px;}#sk-container-id-2 div.sk-estimator {font-family: monospace;background-color: #f0f8ff;border: 1px dotted black;border-radius: 0.25em;box-sizing: border-box;margin-bottom: 0.5em;}#sk-container-id-2 div.sk-estimator:hover {background-color: #d4ebff;}#sk-container-id-2 div.sk-parallel-item::after {content: \"\";width: 100%;border-bottom: 1px solid gray;flex-grow: 1;}#sk-container-id-2 div.sk-label:hover label.sk-toggleable__label {background-color: #d4ebff;}#sk-container-id-2 div.sk-serial::before {content: \"\";position: absolute;border-left: 1px solid gray;box-sizing: border-box;top: 0;bottom: 0;left: 50%;z-index: 0;}#sk-container-id-2 div.sk-serial {display: flex;flex-direction: column;align-items: center;background-color: white;padding-right: 0.2em;padding-left: 0.2em;position: relative;}#sk-container-id-2 div.sk-item {position: relative;z-index: 1;}#sk-container-id-2 div.sk-parallel {display: flex;align-items: stretch;justify-content: center;background-color: white;position: relative;}#sk-container-id-2 div.sk-item::before, #sk-container-id-2 div.sk-parallel-item::before {content: \"\";position: absolute;border-left: 1px solid gray;box-sizing: border-box;top: 0;bottom: 0;left: 50%;z-index: -1;}#sk-container-id-2 div.sk-parallel-item {display: flex;flex-direction: column;z-index: 1;position: relative;background-color: white;}#sk-container-id-2 div.sk-parallel-item:first-child::after {align-self: flex-end;width: 50%;}#sk-container-id-2 div.sk-parallel-item:last-child::after {align-self: flex-start;width: 50%;}#sk-container-id-2 div.sk-parallel-item:only-child::after {width: 0;}#sk-container-id-2 div.sk-dashed-wrapped {border: 1px dashed gray;margin: 0 0.4em 0.5em 0.4em;box-sizing: border-box;padding-bottom: 0.4em;background-color: white;}#sk-container-id-2 div.sk-label label {font-family: monospace;font-weight: bold;display: inline-block;line-height: 1.2em;}#sk-container-id-2 div.sk-label-container {text-align: center;}#sk-container-id-2 div.sk-container {/* jupyter's `normalize.less` sets `[hidden] { display: none; }` but bootstrap.min.css set `[hidden] { display: none !important; }` so we also need the `!important` here to be able to override the default hidden behavior on the sphinx rendered scikit-learn.org. See: https://github.com/scikit-learn/scikit-learn/issues/21755 */display: inline-block !important;position: relative;}#sk-container-id-2 div.sk-text-repr-fallback {display: none;}</style><div id=\"sk-container-id-2\" class=\"sk-top-container\"><div class=\"sk-text-repr-fallback\"><pre>LinearRegression()</pre><b>In a Jupyter environment, please rerun this cell to show the HTML representation or trust the notebook. <br />On GitHub, the HTML representation is unable to render, please try loading this page with nbviewer.org.</b></div><div class=\"sk-container\" hidden><div class=\"sk-item\"><div class=\"sk-estimator sk-toggleable\"><input class=\"sk-toggleable__control sk-hidden--visually\" id=\"sk-estimator-id-2\" type=\"checkbox\" checked><label for=\"sk-estimator-id-2\" class=\"sk-toggleable__label sk-toggleable__label-arrow\">LinearRegression</label><div class=\"sk-toggleable__content\"><pre>LinearRegression()</pre></div></div></div></div></div>"
      ],
      "text/plain": [
       "LinearRegression()"
      ]
     },
     "execution_count": 26,
     "metadata": {},
     "output_type": "execute_result"
    }
   ],
   "source": [
    "Moon.training()"
   ]
  },
  {
   "cell_type": "markdown",
   "id": "1a91b5c9",
   "metadata": {},
   "source": [
    "As seen above we are using a linear model with T_sq and a_cu but we should probably check the corelation between these to see if this is even a good idea"
   ]
  },
  {
   "cell_type": "code",
   "execution_count": 34,
   "id": "bdc41ef7",
   "metadata": {},
   "outputs": [
    {
     "data": {
      "text/plain": [
       "0.9976505031764114"
      ]
     },
     "execution_count": 34,
     "metadata": {},
     "output_type": "execute_result"
    }
   ],
   "source": [
    "M.correlation(False,\"T_sq\",\"a_cu\")"
   ]
  },
  {
   "cell_type": "markdown",
   "id": "b8614521",
   "metadata": {},
   "source": [
    "We see a strong positive corelation between T^2 and a^3 lets now visulise this with a plot "
   ]
  },
  {
   "cell_type": "code",
   "execution_count": 35,
   "id": "13ac0d51",
   "metadata": {},
   "outputs": [
    {
     "data": {
      "image/png": "[encoded data removed]",
      "text/plain": [
       "<Figure size 500x500 with 1 Axes>"
      ]
     },
     "metadata": {},
     "output_type": "display_data"
    }
   ],
   "source": [
    "M.plot(\"T_sq\",\"a_cu\")"
   ]
  },
  {
   "cell_type": "markdown",
   "id": "f99e3b05",
   "metadata": {},
   "source": [
    "Next we will use this model to predict the mass of jupiter which is done by rearanging the equation given and using the gradient of the model to estimate the mass of jupiter \n",
    "\n",
    "below is the predict method which does exactly this  "
   ]
  },
  {
   "cell_type": "code",
   "execution_count": 27,
   "id": "354bbaf9",
   "metadata": {},
   "outputs": [],
   "source": [
    "def predict(self):\n",
    "    G = 6.67e-11\n",
    "    self.estimated_mass_jupiter = (4 * np.pi ** 2 / G) * self.model_y.coef_[0]\n",
    "    return self.estimated_mass_jupiter"
   ]
  },
  {
   "cell_type": "code",
   "execution_count": 28,
   "id": "2b9ed27c",
   "metadata": {},
   "outputs": [
    {
     "data": {
      "text/plain": [
       "1.9095394017566704e+27"
      ]
     },
     "execution_count": 28,
     "metadata": {},
     "output_type": "execute_result"
    }
   ],
   "source": [
    "Moon.predict()"
   ]
  },
  {
   "cell_type": "markdown",
   "id": "8de72f60",
   "metadata": {},
   "source": [
    "We come to the conclusion that this is the mass of jupiter and if we compare this to the real mass of jupiter which is roughly 1.89x10^27 we can see that we are quite close to this value. One way we could maybe improve this estimate is by adding a weight vector into the model so outliers can be delt with however I will not be doing this."
   ]
  },
  {
   "cell_type": "markdown",
   "id": "80da518e",
   "metadata": {},
   "source": [
    "Now we will want to evaluate our model so we will use `testing()` and `evaluation()` to do this "
   ]
  },
  {
   "cell_type": "code",
   "execution_count": 29,
   "id": "2bb8d8a7",
   "metadata": {},
   "outputs": [
    {
     "data": {
      "text/plain": [
       "(0.9927091039860885, 2.284263772800921e+59)"
      ]
     },
     "execution_count": 29,
     "metadata": {},
     "output_type": "execute_result"
    }
   ],
   "source": [
    "Moon.testing()"
   ]
  },
  {
   "cell_type": "code",
   "execution_count": 30,
   "id": "9d8e9945",
   "metadata": {
    "scrolled": true
   },
   "outputs": [
    {
     "data": {
      "image/png": "[encoded data removed]",
      "text/plain": [
       "<Figure size 1200x600 with 2 Axes>"
      ]
     },
     "metadata": {},
     "output_type": "display_data"
    }
   ],
   "source": [
    "Moon.evaluation()"
   ]
  },
  {
   "cell_type": "markdown",
   "id": "93f10a51",
   "metadata": {},
   "source": [
    "On the left we can see for the most part our predictions are very close to the actual values. On the right we can see that most of our predictions are very close (less than 0.2 away from the true value)"
   ]
  }
 ],
 "metadata": {
  "kernelspec": {
   "display_name": "Python 3 (ipykernel)",
   "language": "python",
   "name": "python3"
  },
  "language_info": {
   "codemirror_mode": {
    "name": "ipython",
    "version": 3
   },
   "file_extension": ".py",
   "mimetype": "text/x-python",
   "name": "python",
   "nbconvert_exporter": "python",
   "pygments_lexer": "ipython3",
   "version": "3.11.4"
  }
 },
 "nbformat": 4,
 "nbformat_minor": 5
}
